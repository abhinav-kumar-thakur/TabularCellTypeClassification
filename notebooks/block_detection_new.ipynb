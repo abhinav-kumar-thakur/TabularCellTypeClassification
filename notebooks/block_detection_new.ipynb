{
 "cells": [
  {
   "cell_type": "code",
   "execution_count": 1,
   "metadata": {
    "collapsed": true
   },
   "outputs": [],
   "source": [
    "import json\n",
    "import os\n",
    "import shutil\n",
    "from itertools import combinations\n",
    "\n",
    "import numpy as np\n",
    "import pandas as pd\n",
    "\n",
    "from copy_annotations.sheet import Sheet\n",
    "from src.predict_labels import CellEmbeddingModelWrapper"
   ]
  },
  {
   "cell_type": "markdown",
   "source": [
    "### Declare configs"
   ],
   "metadata": {
    "collapsed": false
   }
  },
  {
   "cell_type": "code",
   "execution_count": 2,
   "outputs": [],
   "source": [
    "OUTPUT_DIR = 'election-polls'\n",
    "FILENAME = '../data/election-polls-single-sheet-comparison.xlsx'\n",
    "ANNOTATION_FILE = '../data/election-polls_colombia.json'\n",
    "\n",
    "CE_MODEL = '../models/ce.model'\n",
    "FE_MODEL = '../models/fe.model'\n",
    "CL_MODEL = '../models/cl.model'\n",
    "W2V = '../models/glove.840B.300d.txt'\n",
    "INFERSENT_MODEL = '../models/infersent1.pkl'\n",
    "VOCAB_SIZE = 60000"
   ],
   "metadata": {
    "collapsed": false,
    "pycharm": {
     "name": "#%%\n"
    }
   }
  },
  {
   "cell_type": "markdown",
   "source": [
    "### Preprocessing"
   ],
   "metadata": {
    "collapsed": false
   }
  },
  {
   "cell_type": "code",
   "execution_count": 3,
   "outputs": [],
   "source": [
    "annotations = {}\n",
    "sheets = {}\n",
    "\n",
    "with open(ANNOTATION_FILE) as f:\n",
    "    annotations['colombia'] = json.load(f)\n",
    "\n",
    "for sheet_name in pd.ExcelFile(FILENAME).sheet_names:\n",
    "    sheet_df = pd.read_excel(FILENAME, sheet_name=sheet_name, engine='openpyxl', index_col=None, header=None)\n",
    "\n",
    "    sheet = None\n",
    "    if sheet_name in annotations:\n",
    "        sheet = Sheet(sheet_df, annotations[sheet_name])\n",
    "    else:\n",
    "        sheet = Sheet(sheet_df)\n",
    "\n",
    "    sheets[sheet_name] = sheet"
   ],
   "metadata": {
    "collapsed": false,
    "pycharm": {
     "name": "#%%\n"
    }
   }
  },
  {
   "cell_type": "markdown",
   "source": [
    "### Load model"
   ],
   "metadata": {
    "collapsed": false,
    "pycharm": {
     "name": "#%% md\n"
    }
   }
  },
  {
   "cell_type": "code",
   "source": [
    "model = CellEmbeddingModelWrapper(CE_MODEL, FE_MODEL, CL_MODEL, W2V, VOCAB_SIZE, INFERSENT_MODEL)"
   ],
   "metadata": {
    "collapsed": false,
    "pycharm": {
     "name": "#%%\n"
    }
   },
   "execution_count": 4,
   "outputs": [
    {
     "name": "stdout",
     "output_type": "stream",
     "text": [
      "loading word vectors...\n",
      "loading word embeddings...\n",
      "creating dict...\n",
      "embeddings loaded!\n"
     ]
    }
   ]
  },
  {
   "cell_type": "markdown",
   "source": [
    "### Create embeddings"
   ],
   "metadata": {
    "collapsed": false
   }
  },
  {
   "cell_type": "code",
   "execution_count": 5,
   "outputs": [
    {
     "name": "stdout",
     "output_type": "stream",
     "text": [
      "initialize 40 text sentences...\n"
     ]
    },
    {
     "name": "stderr",
     "output_type": "stream",
     "text": [
      "100%|██████████| 40/40 [00:02<00:00, 19.81it/s]\n"
     ]
    },
    {
     "name": "stdout",
     "output_type": "stream",
     "text": [
      "initialize 0 numeric sentences...\n"
     ]
    },
    {
     "name": "stderr",
     "output_type": "stream",
     "text": [
      "0it [00:00, ?it/s]\n"
     ]
    },
    {
     "name": "stdout",
     "output_type": "stream",
     "text": [
      "torch.Size([19, 9, 552])\n",
      "initialize 40 text sentences...\n"
     ]
    },
    {
     "name": "stderr",
     "output_type": "stream",
     "text": [
      "100%|██████████| 40/40 [00:01<00:00, 20.86it/s]\n"
     ]
    },
    {
     "name": "stdout",
     "output_type": "stream",
     "text": [
      "initialize 0 numeric sentences...\n"
     ]
    },
    {
     "name": "stderr",
     "output_type": "stream",
     "text": [
      "0it [00:00, ?it/s]\n"
     ]
    },
    {
     "name": "stdout",
     "output_type": "stream",
     "text": [
      "torch.Size([19, 9, 552])\n"
     ]
    }
   ],
   "source": [
    "embeddings = model.predict_labels(FILENAME)"
   ],
   "metadata": {
    "collapsed": false,
    "pycharm": {
     "name": "#%%\n"
    }
   }
  },
  {
   "cell_type": "markdown",
   "source": [
    "### Remove unlabelled data"
   ],
   "metadata": {
    "collapsed": false,
    "pycharm": {
     "name": "#%% md\n"
    }
   }
  },
  {
   "cell_type": "code",
   "execution_count": 6,
   "outputs": [
    {
     "name": "stdout",
     "output_type": "stream",
     "text": [
      "Started saving sheet pair data\n",
      "Saving: ('colombia_copy', 'colombia')\n"
     ]
    }
   ],
   "source": [
    "print('Started saving sheet pair data')\n",
    "block_detection_output = f'../output/block_detection/{OUTPUT_DIR}'\n",
    "\n",
    "if os.path.exists(block_detection_output):\n",
    "    shutil.rmtree(block_detection_output)\n",
    "\n",
    "sheet_pairs = combinations(embeddings.keys(), 2)\n",
    "for sheet_pair in sheet_pairs:\n",
    "    dir_name = os.path.join(block_detection_output, \" & \".join(sheet_pair))\n",
    "    os.makedirs(dir_name)\n",
    "\n",
    "    labels = text = coordinates = cell_embeddings = []\n",
    "    ids = types = roles = []\n",
    "\n",
    "    metadata = [['sheet', 'text', 'label', 'coordinates']]\n",
    "    has_annotations = False\n",
    "    # if any([sheets[s].annotations for s in sheet_pair]):\n",
    "    #     has_annotations = True\n",
    "    #     metadata = [['sheet', 'text', 'label', 'coordinates', 'id', 'role', 'type']]\n",
    "\n",
    "    for s in sheet_pair:\n",
    "        if has_annotations:\n",
    "            sheet = sheets[s]\n",
    "            ids = sheet.represent_transformed_annotations('id').to_numpy()  #.reshape(shape[0] * shape[1])\n",
    "            types = sheet.represent_transformed_annotations('type').to_numpy()  #.reshape(shape[0] * shape[1])\n",
    "            roles = sheet.represent_transformed_annotations('role').to_numpy()  #.reshape(shape[0] * shape[1])\n",
    "        for i in range(0, len(embeddings[s]['text'])):\n",
    "            for j in range(0, len(embeddings[s]['text'][i])):\n",
    "                value = embeddings[s]['text'][i][j]\n",
    "                # Filter based on value\n",
    "                # if value.replace('.', '', 1).isdigit():\n",
    "                #     continue\n",
    "\n",
    "\n",
    "                if value != 'None' and value != '':\n",
    "                    text = value.replace('\\n', '')\n",
    "                else:\n",
    "                    continue\n",
    "\n",
    "                cell_embeddings.append(list(embeddings[s]['embeddings'][i][j]))\n",
    "                if has_annotations:\n",
    "                    metadata.append([s, text, embeddings[s]['labels'][i][j], f'|{i + 1}_{j + 1}|', ids[i][j], roles[i][j], types[i][j]])\n",
    "                else:\n",
    "                    metadata.append([s, text, embeddings[s]['labels'][i][j], f'|{i + 1}_{j + 1}|'])\n",
    "\n",
    "                assert len(cell_embeddings) + 1 == len(metadata)\n",
    "\n",
    "    print('Saving:', sheet_pair)\n",
    "    np.savetxt(os.path.join(dir_name, 'embeddings.tsv'), cell_embeddings, delimiter='\\t')\n",
    "    np.savetxt(os.path.join(dir_name, 'metadata.tsv'), metadata, delimiter='\\t', fmt='%s')"
   ],
   "metadata": {
    "collapsed": false,
    "pycharm": {
     "name": "#%%\n"
    }
   }
  },
  {
   "cell_type": "code",
   "execution_count": 6,
   "outputs": [],
   "source": [],
   "metadata": {
    "collapsed": false,
    "pycharm": {
     "name": "#%%\n"
    }
   }
  }
 ],
 "metadata": {
  "kernelspec": {
   "display_name": "Python 3",
   "language": "python",
   "name": "python3"
  },
  "language_info": {
   "codemirror_mode": {
    "name": "ipython",
    "version": 2
   },
   "file_extension": ".py",
   "mimetype": "text/x-python",
   "name": "python",
   "nbconvert_exporter": "python",
   "pygments_lexer": "ipython2",
   "version": "2.7.6"
  }
 },
 "nbformat": 4,
 "nbformat_minor": 0
}
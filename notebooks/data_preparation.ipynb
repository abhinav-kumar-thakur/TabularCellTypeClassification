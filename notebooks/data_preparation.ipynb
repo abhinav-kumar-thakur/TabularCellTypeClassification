{
 "cells": [
  {
   "cell_type": "code",
   "execution_count": 1,
   "metadata": {
    "collapsed": true
   },
   "outputs": [],
   "source": [
    "import json\n",
    "\n",
    "import numpy as np\n",
    "import pandas as pd\n",
    "\n",
    "from extract_features import main\n",
    "from copy_annotations.sheet import Sheet"
   ]
  },
  {
   "cell_type": "markdown",
   "source": [
    "### Declare configs"
   ],
   "metadata": {
    "collapsed": false,
    "pycharm": {
     "name": "#%% md\n"
    }
   }
  },
  {
   "cell_type": "code",
   "source": [
    "FILENAME = '../data/election-polls.xlsx'\n",
    "SHEET_NAME = 'colombia'\n",
    "ANNOTATION_FILE = '../data/election-polls_colombia.json'\n",
    "\n",
    "# FILENAME = '../data/data.xlsx'\n",
    "# SHEET_NAME = 'india_wheat'\n",
    "# ANNOTATION_FILE = '../data/source_india_wheat.json'\n",
    "\n",
    "TRANSFORMED = '../data/temp.xlsx'\n",
    "CE_MODEL = '../models/ce.model'\n",
    "FE_MODEL = '../models/fe.model'\n",
    "CL_MODEL = '../models/cl.model'\n",
    "W2V = '../models/glove.840B.300d.txt'\n",
    "INFERSENT_MODEL = '../models/infersent1.pkl'\n",
    "VOCAB_SIZE = 60000\n",
    "\n",
    "OUT = '../output/output.json'"
   ],
   "metadata": {
    "collapsed": false,
    "pycharm": {
     "name": "#%%\n"
    }
   },
   "execution_count": 2,
   "outputs": []
  },
  {
   "cell_type": "markdown",
   "source": [
    "### Preprocessing"
   ],
   "metadata": {
    "collapsed": false
   }
  },
  {
   "cell_type": "code",
   "execution_count": 3,
   "outputs": [],
   "source": [
    "with open(ANNOTATION_FILE) as f:\n",
    "    annotations = json.load(f)\n",
    "\n",
    "sheet_df = pd.read_excel(FILENAME, sheet_name=SHEET_NAME, engine='openpyxl', index_col=None, header=None)\n",
    "sheet = Sheet(sheet_df, annotations)\n",
    "transformed_annotations = sheet.transformed_annotations\n",
    "sheet.transformed_df.to_excel(TRANSFORMED, sheet_name=SHEET_NAME, header=False, index=False)"
   ],
   "metadata": {
    "collapsed": false,
    "pycharm": {
     "name": "#%%\n"
    }
   }
  },
  {
   "cell_type": "markdown",
   "source": [
    "### Create embeddings"
   ],
   "metadata": {
    "collapsed": false
   }
  },
  {
   "cell_type": "code",
   "execution_count": 4,
   "outputs": [
    {
     "name": "stdout",
     "output_type": "stream",
     "text": [
      "loading word vectors...\n",
      "loading word embeddings...\n",
      "creating dict...\n",
      "embeddings loaded!\n",
      "initialize 40 text sentences...\n"
     ]
    },
    {
     "name": "stderr",
     "output_type": "stream",
     "text": [
      "100%|██████████| 40/40 [00:01<00:00, 23.38it/s]\n"
     ]
    },
    {
     "name": "stdout",
     "output_type": "stream",
     "text": [
      "initialize 0 numeric sentences...\n"
     ]
    },
    {
     "name": "stderr",
     "output_type": "stream",
     "text": [
      "0it [00:00, ?it/s]\n"
     ]
    },
    {
     "name": "stdout",
     "output_type": "stream",
     "text": [
      "torch.Size([16, 9, 552])\n"
     ]
    }
   ],
   "source": [
    "embeddings = main(TRANSFORMED, SHEET_NAME, CE_MODEL, FE_MODEL, CL_MODEL, W2V, VOCAB_SIZE, INFERSENT_MODEL)\n",
    "\n",
    "shape = embeddings.shape\n",
    "re_emb = embeddings.reshape(shape[0] * shape[1], shape[2])"
   ],
   "metadata": {
    "collapsed": false,
    "pycharm": {
     "name": "#%%\n"
    }
   }
  },
  {
   "cell_type": "markdown",
   "source": [
    "### Remove unlabelled data"
   ],
   "metadata": {
    "collapsed": false
   }
  },
  {
   "cell_type": "code",
   "execution_count": 5,
   "outputs": [],
   "source": [
    "shape = sheet.transformed_df.shape\n",
    "ids = sheet.represent_transformed_annotations('id').to_numpy().reshape(shape[0] * shape[1])\n",
    "types = sheet.represent_transformed_annotations('type').to_numpy().reshape(shape[0] * shape[1])\n",
    "roles = sheet.represent_transformed_annotations('role').to_numpy().reshape(shape[0] * shape[1])\n",
    "values = sheet.transformed_df.to_numpy().reshape(shape[0] * shape[1])"
   ],
   "metadata": {
    "collapsed": false,
    "pycharm": {
     "name": "#%%\n"
    }
   }
  },
  {
   "cell_type": "code",
   "execution_count": 6,
   "outputs": [],
   "source": [
    "cell_embeddings = []\n",
    "metadata = [['id', 'role', 'type', 'value']]\n",
    "\n",
    "for i in range(0, len(ids)):\n",
    "    if ids[i] != 'UNLABELED':\n",
    "        cell_embeddings.append(list(re_emb[i]))\n",
    "        metadata.append([ids[i], roles[i], types[i], values[i]])\n",
    "\n",
    "np.savetxt('embeddings.tsv', cell_embeddings, delimiter='\\t')\n",
    "b = np.savetxt('metadata.tsv', metadata, delimiter='\\t', fmt='%s')\n"
   ],
   "metadata": {
    "collapsed": false,
    "pycharm": {
     "name": "#%%\n"
    }
   }
  }
 ],
 "metadata": {
  "kernelspec": {
   "display_name": "Python 3",
   "language": "python",
   "name": "python3"
  },
  "language_info": {
   "codemirror_mode": {
    "name": "ipython",
    "version": 2
   },
   "file_extension": ".py",
   "mimetype": "text/x-python",
   "name": "python",
   "nbconvert_exporter": "python",
   "pygments_lexer": "ipython2",
   "version": "2.7.6"
  }
 },
 "nbformat": 4,
 "nbformat_minor": 0
}